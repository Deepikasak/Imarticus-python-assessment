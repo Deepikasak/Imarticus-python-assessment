{
 "cells": [
  {
   "cell_type": "code",
   "execution_count": 34,
   "id": "7155873c",
   "metadata": {},
   "outputs": [
    {
     "name": "stdout",
     "output_type": "stream",
     "text": [
      "['santa Maria', 'Hello World', 'Merry christmas', 'tHank You']\n",
      "['Maria', 'Hello', 'World', 'Merry', 'You']\n"
     ]
    }
   ],
   "source": [
    "namelist=['santa Maria','Hello World','Merry christmas','tHank You']\n",
    "a=[]\n",
    "b=[]\n",
    "for i in namelist:\n",
    "    a.append(i.split(' ')[0])\n",
    "    a.append(i.split(' ')[1])\n",
    "for i in a:\n",
    "    if i[0].isupper():\n",
    "        b.append(i)\n",
    "print(namelist)        \n",
    "print(b)"
   ]
  },
  {
   "cell_type": "code",
   "execution_count": null,
   "id": "9ad14a93",
   "metadata": {},
   "outputs": [],
   "source": []
  }
 ],
 "metadata": {
  "kernelspec": {
   "display_name": "Python 3 (ipykernel)",
   "language": "python",
   "name": "python3"
  },
  "language_info": {
   "codemirror_mode": {
    "name": "ipython",
    "version": 3
   },
   "file_extension": ".py",
   "mimetype": "text/x-python",
   "name": "python",
   "nbconvert_exporter": "python",
   "pygments_lexer": "ipython3",
   "version": "3.9.7"
  }
 },
 "nbformat": 4,
 "nbformat_minor": 5
}
