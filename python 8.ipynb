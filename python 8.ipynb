{
 "cells": [
  {
   "cell_type": "code",
   "execution_count": 5,
   "id": "4c4be2d0",
   "metadata": {},
   "outputs": [
    {
     "name": "stdout",
     "output_type": "stream",
     "text": [
      "[9, 8, 7, 6, 5]\n",
      "[9, 8.5, 8.0, 7.5, 7.0]\n"
     ]
    }
   ],
   "source": [
    "from itertools import accumulate\n",
    "import itertools as it\n",
    "b=[9,8,7,6,5]\n",
    "li=[]\n",
    "li=it.accumulate(list(enumerate(b)),lambda c,d:(d[0],(c[1]*(c[0]+1)+d[1])/(d[0]+1)))\n",
    "print(b)\n",
    "print(list(map(lambda x:x[1],li)))"
   ]
  },
  {
   "cell_type": "code",
   "execution_count": null,
   "id": "88f5aa4f",
   "metadata": {},
   "outputs": [],
   "source": []
  }
 ],
 "metadata": {
  "kernelspec": {
   "display_name": "Python 3 (ipykernel)",
   "language": "python",
   "name": "python3"
  },
  "language_info": {
   "codemirror_mode": {
    "name": "ipython",
    "version": 3
   },
   "file_extension": ".py",
   "mimetype": "text/x-python",
   "name": "python",
   "nbconvert_exporter": "python",
   "pygments_lexer": "ipython3",
   "version": "3.9.7"
  }
 },
 "nbformat": 4,
 "nbformat_minor": 5
}
